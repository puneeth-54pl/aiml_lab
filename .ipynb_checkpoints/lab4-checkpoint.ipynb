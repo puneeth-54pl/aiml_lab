{
 "cells": [
  {
   "cell_type": "code",
   "execution_count": 1,
   "id": "d7661f77-d563-4e14-94c9-2cf1bcab6b40",
   "metadata": {},
   "outputs": [
    {
     "name": "stdout",
     "output_type": "stream",
     "text": [
      "Frequent items: {'B', 'C', 'A', 'E'}\n",
      "Frequent pairs: {('A', 'B'): 3, ('A', 'E'): 3, ('B', 'E'): 5, ('B', 'C'): 3, ('C', 'E'): 3}\n",
      "Rule: A -> B, support: 0.60, confidence: 1.00\n",
      "Rule: A -> E, support: 0.60, confidence: 1.00\n",
      "Rule: B -> E, support: 1.00, confidence: 1.00\n",
      "Rule: E -> B, support: 1.00, confidence: 1.00\n",
      "Rule: C -> B, support: 0.60, confidence: 1.00\n",
      "Rule: C -> E, support: 0.60, confidence: 1.00\n"
     ]
    }
   ],
   "source": [
    "\n",
    "dataset = [\n",
    "    ['A', 'B', 'D', 'E'],\n",
    "    ['B', 'C', 'E'],\n",
    "    ['A', 'B', 'C', 'E'],\n",
    "    ['B', 'E'],\n",
    "    ['A', 'B', 'C', 'E']\n",
    "]\n",
    "\n",
    "min_support = 3  # minimum count to be frequent\n",
    "min_confidence = 0.7\n",
    "\n",
    "item_count = {}\n",
    "for trans in dataset:\n",
    "    for item in trans:\n",
    "        item_count[item] = item_count.get(item, 0) + 1\n",
    "\n",
    "freq_items = {item for item, count in item_count.items() if count >= min_support}\n",
    "\n",
    "print(\"Frequent items:\", freq_items)\n",
    "\n",
    "pair_count = {}\n",
    "for trans in dataset:\n",
    "    items = [i for i in trans if i in freq_items]\n",
    "    for i in range(len(items)):\n",
    "        for j in range(i+1, len(items)):\n",
    "            pair = tuple(sorted([items[i], items[j]]))\n",
    "            pair_count[pair] = pair_count.get(pair, 0) + 1\n",
    "\n",
    "freq_pairs = {pair: c for pair, c in pair_count.items() if c >= min_support}\n",
    "\n",
    "print(\"Frequent pairs:\", freq_pairs)\n",
    "\n",
    "total_trans = len(dataset)\n",
    "for (a, b), sup_count in freq_pairs.items():\n",
    "    sup = sup_count / total_trans\n",
    "    conf_a_b = sup_count / item_count[a]\n",
    "    conf_b_a = sup_count / item_count[b]\n",
    "\n",
    "    if conf_a_b >= min_confidence:\n",
    "        print(f\"Rule: {a} -> {b}, support: {sup:.2f}, confidence: {conf_a_b:.2f}\")\n",
    "    if conf_b_a >= min_confidence:\n",
    "        print(f\"Rule: {b} -> {a}, support: {sup:.2f}, confidence: {conf_b_a:.2f}\")\n"
   ]
  },
  {
   "cell_type": "code",
   "execution_count": 5,
   "id": "9cee50ee-1588-44f3-85e0-5bca0cc29b26",
   "metadata": {},
   "outputs": [
    {
     "name": "stdout",
     "output_type": "stream",
     "text": [
      "Frequent Itemsets:\n",
      "    support                itemsets\n",
      "0  0.857143                 (mango)\n",
      "1  0.857143                (banana)\n",
      "2  0.571429                 (apple)\n",
      "3  0.714286         (banana, mango)\n",
      "4  0.571429          (apple, mango)\n",
      "5  0.428571         (banana, apple)\n",
      "6  0.428571  (banana, apple, mango)\n",
      "\n",
      "Association Rules:\n",
      "       antecedents      consequents   support  confidence      lift\n",
      "0         (banana)          (mango)  0.714286    0.833333  0.972222\n",
      "1          (mango)         (banana)  0.714286    0.833333  0.972222\n",
      "2          (apple)          (mango)  0.571429    1.000000  1.166667\n",
      "3          (apple)         (banana)  0.428571    0.750000  0.875000\n",
      "4  (banana, apple)          (mango)  0.428571    1.000000  1.166667\n",
      "5   (apple, mango)         (banana)  0.428571    0.750000  0.875000\n",
      "6          (apple)  (banana, mango)  0.428571    0.750000  1.050000\n"
     ]
    }
   ],
   "source": [
    "from mlxtend.preprocessing import TransactionEncoder\n",
    "from mlxtend.frequent_patterns import fpgrowth, association_rules\n",
    "import pandas as pd\n",
    "\n",
    "\n",
    "transactions = [\n",
    "    ['apple', 'banana', 'mango'],\n",
    "    ['banana', 'orange'],\n",
    "    ['apple', 'banana', 'orange', 'mango'],\n",
    "    ['banana', 'mango'],\n",
    "    ['apple', 'mango'],\n",
    "    ['banana', 'mango'],\n",
    "    ['apple', 'banana', 'mango'],\n",
    "]\n",
    "\n",
    "te = TransactionEncoder()\n",
    "te_ary = te.fit(transactions).transform(transactions)\n",
    "df = pd.DataFrame(te_ary, columns=te.columns_)\n",
    "\n",
    "frequent_itemsets = fpgrowth(df, min_support=0.4, use_colnames=True)\n",
    "\n",
    "print(\"Frequent Itemsets:\")\n",
    "print(frequent_itemsets)\n",
    "\n",
    "rules = association_rules(frequent_itemsets, metric=\"confidence\", min_threshold=0.7)\n",
    "\n",
    "print(\"\\nAssociation Rules:\")\n",
    "print(rules[['antecedents', 'consequents', 'support', 'confidence', 'lift']])\n"
   ]
  },
  {
   "cell_type": "code",
   "execution_count": 3,
   "id": "14ccf420-af62-469d-9b25-1c5ede0e86f3",
   "metadata": {},
   "outputs": [
    {
     "name": "stdout",
     "output_type": "stream",
     "text": [
      "Requirement already satisfied: mlxtend in c:\\users\\student\\anaconda3\\lib\\site-packages (0.23.4)\n",
      "Requirement already satisfied: scipy>=1.2.1 in c:\\users\\student\\anaconda3\\lib\\site-packages (from mlxtend) (1.13.1)\n",
      "Requirement already satisfied: numpy>=1.16.2 in c:\\users\\student\\anaconda3\\lib\\site-packages (from mlxtend) (1.26.4)\n",
      "Requirement already satisfied: pandas>=0.24.2 in c:\\users\\student\\anaconda3\\lib\\site-packages (from mlxtend) (2.2.2)\n",
      "Requirement already satisfied: scikit-learn>=1.3.1 in c:\\users\\student\\anaconda3\\lib\\site-packages (from mlxtend) (1.4.2)\n",
      "Requirement already satisfied: matplotlib>=3.0.0 in c:\\users\\student\\anaconda3\\lib\\site-packages (from mlxtend) (3.8.4)\n",
      "Requirement already satisfied: joblib>=0.13.2 in c:\\users\\student\\anaconda3\\lib\\site-packages (from mlxtend) (1.4.2)\n",
      "Requirement already satisfied: contourpy>=1.0.1 in c:\\users\\student\\anaconda3\\lib\\site-packages (from matplotlib>=3.0.0->mlxtend) (1.2.0)\n",
      "Requirement already satisfied: cycler>=0.10 in c:\\users\\student\\anaconda3\\lib\\site-packages (from matplotlib>=3.0.0->mlxtend) (0.11.0)\n",
      "Requirement already satisfied: fonttools>=4.22.0 in c:\\users\\student\\anaconda3\\lib\\site-packages (from matplotlib>=3.0.0->mlxtend) (4.51.0)\n",
      "Requirement already satisfied: kiwisolver>=1.3.1 in c:\\users\\student\\anaconda3\\lib\\site-packages (from matplotlib>=3.0.0->mlxtend) (1.4.4)\n",
      "Requirement already satisfied: packaging>=20.0 in c:\\users\\student\\anaconda3\\lib\\site-packages (from matplotlib>=3.0.0->mlxtend) (23.2)\n",
      "Requirement already satisfied: pillow>=8 in c:\\users\\student\\anaconda3\\lib\\site-packages (from matplotlib>=3.0.0->mlxtend) (10.3.0)\n",
      "Requirement already satisfied: pyparsing>=2.3.1 in c:\\users\\student\\anaconda3\\lib\\site-packages (from matplotlib>=3.0.0->mlxtend) (3.0.9)\n",
      "Requirement already satisfied: python-dateutil>=2.7 in c:\\users\\student\\anaconda3\\lib\\site-packages (from matplotlib>=3.0.0->mlxtend) (2.9.0.post0)\n",
      "Requirement already satisfied: pytz>=2020.1 in c:\\users\\student\\anaconda3\\lib\\site-packages (from pandas>=0.24.2->mlxtend) (2024.1)\n",
      "Requirement already satisfied: tzdata>=2022.7 in c:\\users\\student\\anaconda3\\lib\\site-packages (from pandas>=0.24.2->mlxtend) (2023.3)\n",
      "Requirement already satisfied: threadpoolctl>=2.0.0 in c:\\users\\student\\anaconda3\\lib\\site-packages (from scikit-learn>=1.3.1->mlxtend) (2.2.0)\n",
      "Requirement already satisfied: six>=1.5 in c:\\users\\student\\anaconda3\\lib\\site-packages (from python-dateutil>=2.7->matplotlib>=3.0.0->mlxtend) (1.16.0)\n"
     ]
    }
   ],
   "source": [
    "!pip install mlxtend"
   ]
  },
  {
   "cell_type": "code",
   "execution_count": null,
   "id": "f9600e1e-7430-48d0-814b-ed25285b92c3",
   "metadata": {},
   "outputs": [],
   "source": []
  }
 ],
 "metadata": {
  "kernelspec": {
   "display_name": "Python 3 (ipykernel)",
   "language": "python",
   "name": "python3"
  },
  "language_info": {
   "codemirror_mode": {
    "name": "ipython",
    "version": 3
   },
   "file_extension": ".py",
   "mimetype": "text/x-python",
   "name": "python",
   "nbconvert_exporter": "python",
   "pygments_lexer": "ipython3",
   "version": "3.12.4"
  }
 },
 "nbformat": 4,
 "nbformat_minor": 5
}
